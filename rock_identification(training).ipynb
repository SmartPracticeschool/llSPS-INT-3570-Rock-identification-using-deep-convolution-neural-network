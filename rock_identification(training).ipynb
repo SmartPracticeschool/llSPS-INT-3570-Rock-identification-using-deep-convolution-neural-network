{
 "cells": [
  {
   "cell_type": "code",
   "execution_count": 2,
   "metadata": {},
   "outputs": [
    {
     "name": "stderr",
     "output_type": "stream",
     "text": [
      "Using TensorFlow backend.\n"
     ]
    }
   ],
   "source": [
    "#importing the libraries\n",
    "from keras.models import Sequential\n",
    "from keras.layers import Dense\n",
    "from keras.layers import Convolution2D\n",
    "from keras.layers import MaxPooling2D\n",
    "from keras.layers import Flatten"
   ]
  },
  {
   "cell_type": "code",
   "execution_count": 3,
   "metadata": {},
   "outputs": [],
   "source": [
    "#initialize the model\n",
    "model = Sequential()"
   ]
  },
  {
   "cell_type": "code",
   "execution_count": 4,
   "metadata": {},
   "outputs": [],
   "source": [
    "model.add(Convolution2D(32,(3,3),input_shape = (64,64,3),activation = 'relu'))"
   ]
  },
  {
   "cell_type": "code",
   "execution_count": 5,
   "metadata": {},
   "outputs": [],
   "source": [
    "model.add(MaxPooling2D(pool_size = (2,2)))"
   ]
  },
  {
   "cell_type": "code",
   "execution_count": 6,
   "metadata": {},
   "outputs": [],
   "source": [
    "model.add(Flatten())"
   ]
  },
  {
   "cell_type": "code",
   "execution_count": 15,
   "metadata": {},
   "outputs": [],
   "source": [
    "model.add(Dense(units=128 ,kernel_initializer =\"uniform\",activation = 'relu'))"
   ]
  },
  {
   "cell_type": "code",
   "execution_count": 16,
   "metadata": {},
   "outputs": [],
   "source": [
    "model.add(Dense(units = 6,activation = 'softmax',kernel_initializer ='uniform'))"
   ]
  },
  {
   "cell_type": "code",
   "execution_count": 17,
   "metadata": {},
   "outputs": [],
   "source": [
    "from keras.preprocessing.image import ImageDataGenerator\n",
    "train_datagen = ImageDataGenerator(rescale = 1./255,shear_range = 0.2,zoom_range = 0.2,horizontal_flip = True)\n",
    "test_datagen =ImageDataGenerator(rescale = 1)\n"
   ]
  },
  {
   "cell_type": "code",
   "execution_count": 18,
   "metadata": {},
   "outputs": [
    {
     "name": "stdout",
     "output_type": "stream",
     "text": [
      "Found 603 images belonging to 6 classes.\n",
      "Found 443 images belonging to 6 classes.\n"
     ]
    }
   ],
   "source": [
    "x_train = train_datagen.flow_from_directory(r'C:\\Users\\dell\\Desktop\\intrenship\\dataset\\minet\\train',target_size = (64,64),batch_size = 32, class_mode = 'categorical')\n",
    "x_test =  test_datagen.flow_from_directory(r'C:\\Users\\dell\\Desktop\\intrenship\\dataset\\minet\\test',target_size = (64,64),batch_size = 32, class_mode = 'categorical')"
   ]
  },
  {
   "cell_type": "code",
   "execution_count": 19,
   "metadata": {},
   "outputs": [
    {
     "name": "stdout",
     "output_type": "stream",
     "text": [
      "{'bornite': 0, 'chrysocolla': 1, 'malachite': 2, 'muscovite': 3, 'pyrite': 4, 'quartz': 5}\n"
     ]
    }
   ],
   "source": [
    "print(x_train.class_indices)"
   ]
  },
  {
   "cell_type": "code",
   "execution_count": 20,
   "metadata": {},
   "outputs": [],
   "source": [
    "model.compile(loss = 'categorical_crossentropy',optimizer = \"adam\",metrics = [\"accuracy\"])"
   ]
  },
  {
   "cell_type": "code",
   "execution_count": 21,
   "metadata": {},
   "outputs": [
    {
     "name": "stdout",
     "output_type": "stream",
     "text": [
      "Epoch 1/25\n",
      "21/21 [==============================] - 42s 2s/step - loss: 1.7582 - accuracy: 0.5877 - val_loss: 1.7305 - val_accuracy: 0.3747\n",
      "Epoch 2/25\n",
      "21/21 [==============================] - 19s 907ms/step - loss: 1.6529 - accuracy: 0.7054 - val_loss: 1.6295 - val_accuracy: 0.6337\n",
      "Epoch 3/25\n",
      "21/21 [==============================] - 20s 955ms/step - loss: 1.4461 - accuracy: 0.8214 - val_loss: 1.4282 - val_accuracy: 0.8211\n",
      "Epoch 4/25\n",
      "21/21 [==============================] - 21s 987ms/step - loss: 1.1696 - accuracy: 0.8936 - val_loss: 1.0917 - val_accuracy: 0.7916\n",
      "Epoch 5/25\n",
      "21/21 [==============================] - 23s 1s/step - loss: 0.9385 - accuracy: 0.8489 - val_loss: 0.9943 - val_accuracy: 0.7726\n",
      "Epoch 6/25\n",
      "21/21 [==============================] - 23s 1s/step - loss: 0.6888 - accuracy: 0.8929 - val_loss: 0.9694 - val_accuracy: 0.7853\n",
      "Epoch 7/25\n",
      "21/21 [==============================] - 20s 962ms/step - loss: 0.6073 - accuracy: 0.8761 - val_loss: 1.0642 - val_accuracy: 0.7074\n",
      "Epoch 8/25\n",
      "21/21 [==============================] - 27s 1s/step - loss: 0.3693 - accuracy: 0.9449 - val_loss: 1.0117 - val_accuracy: 0.7389\n",
      "Epoch 9/25\n",
      "21/21 [==============================] - 24s 1s/step - loss: 0.3188 - accuracy: 0.9335 - val_loss: 0.3488 - val_accuracy: 0.8253\n",
      "Epoch 10/25\n",
      "21/21 [==============================] - 30s 1s/step - loss: 0.2184 - accuracy: 0.9685 - val_loss: 0.8964 - val_accuracy: 0.7600\n",
      "Epoch 11/25\n",
      "21/21 [==============================] - 23s 1s/step - loss: 0.2595 - accuracy: 0.9280 - val_loss: 0.9858 - val_accuracy: 0.7032\n",
      "Epoch 12/25\n",
      "21/21 [==============================] - 23s 1s/step - loss: 0.2358 - accuracy: 0.9366 - val_loss: 0.7921 - val_accuracy: 0.8168\n",
      "Epoch 13/25\n",
      "21/21 [==============================] - 23s 1s/step - loss: 0.1785 - accuracy: 0.9509 - val_loss: 1.4570 - val_accuracy: 0.7811\n",
      "Epoch 14/25\n",
      "21/21 [==============================] - 24s 1s/step - loss: 0.1800 - accuracy: 0.9532 - val_loss: 0.8348 - val_accuracy: 0.7574\n",
      "Epoch 15/25\n",
      "21/21 [==============================] - 20s 934ms/step - loss: 0.1428 - accuracy: 0.9658 - val_loss: 1.0743 - val_accuracy: 0.8084\n",
      "Epoch 16/25\n",
      "21/21 [==============================] - 21s 988ms/step - loss: 0.1935 - accuracy: 0.9445 - val_loss: 1.9523 - val_accuracy: 0.7242\n",
      "Epoch 17/25\n",
      "21/21 [==============================] - 21s 1s/step - loss: 0.1789 - accuracy: 0.9517 - val_loss: 1.0421 - val_accuracy: 0.7979\n",
      "Epoch 18/25\n",
      "21/21 [==============================] - 23s 1s/step - loss: 0.1714 - accuracy: 0.9520 - val_loss: 0.9133 - val_accuracy: 0.7853\n",
      "Epoch 19/25\n",
      "21/21 [==============================] - 30s 1s/step - loss: 0.1461 - accuracy: 0.9535 - val_loss: 1.2651 - val_accuracy: 0.7263\n",
      "Epoch 20/25\n",
      "21/21 [==============================] - 26s 1s/step - loss: 0.0952 - accuracy: 0.9790 - val_loss: 1.4795 - val_accuracy: 0.7642\n",
      "Epoch 21/25\n",
      "21/21 [==============================] - 22s 1s/step - loss: 0.0897 - accuracy: 0.9775 - val_loss: 1.1348 - val_accuracy: 0.7368\n",
      "Epoch 22/25\n",
      "21/21 [==============================] - 24s 1s/step - loss: 0.0917 - accuracy: 0.9743 - val_loss: 1.4013 - val_accuracy: 0.7537\n",
      "Epoch 23/25\n",
      "21/21 [==============================] - 19s 915ms/step - loss: 0.1225 - accuracy: 0.9670 - val_loss: 1.3169 - val_accuracy: 0.7453\n",
      "Epoch 24/25\n",
      "21/21 [==============================] - 29s 1s/step - loss: 0.1163 - accuracy: 0.9673 - val_loss: 1.9781 - val_accuracy: 0.8021\n",
      "Epoch 25/25\n",
      "21/21 [==============================] - 25s 1s/step - loss: 0.0850 - accuracy: 0.9789 - val_loss: 1.5389 - val_accuracy: 0.7768\n"
     ]
    },
    {
     "data": {
      "text/plain": [
       "<keras.callbacks.callbacks.History at 0x1bac2ca3f88>"
      ]
     },
     "execution_count": 21,
     "metadata": {},
     "output_type": "execute_result"
    }
   ],
   "source": [
    "model.fit_generator(x_train, steps_per_epoch = 21,epochs = 25,validation_data = x_test,validation_steps = 15)"
   ]
  },
  {
   "cell_type": "code",
   "execution_count": 22,
   "metadata": {},
   "outputs": [],
   "source": [
    "model.save(\"rock.h5\")"
   ]
  },
  {
   "cell_type": "code",
   "execution_count": null,
   "metadata": {},
   "outputs": [],
   "source": []
  },
  {
   "cell_type": "code",
   "execution_count": null,
   "metadata": {},
   "outputs": [],
   "source": []
  }
 ],
 "metadata": {
  "kernelspec": {
   "display_name": "Python 3",
   "language": "python",
   "name": "python3"
  },
  "language_info": {
   "codemirror_mode": {
    "name": "ipython",
    "version": 3
   },
   "file_extension": ".py",
   "mimetype": "text/x-python",
   "name": "python",
   "nbconvert_exporter": "python",
   "pygments_lexer": "ipython3",
   "version": "3.7.7"
  }
 },
 "nbformat": 4,
 "nbformat_minor": 4
}
